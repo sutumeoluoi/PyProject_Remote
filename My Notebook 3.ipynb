{
 "cells": [
  {
   "cell_type": "code",
   "execution_count": 5,
   "metadata": {},
   "outputs": [
    {
     "name": "stdout",
     "output_type": "stream",
     "text": [
      "<function funct at 0x0000000004E32598>\n"
     ]
    }
   ],
   "source": [
    "class decorator:\n",
    "    def __init__(self, func): # On @ decoration\n",
    "        self.func = func #self.func is simple function passing by func function obj. \n",
    "                         #It is NOT bound method obj because func is not method of decorator instance\n",
    "        print(self.func)\n",
    "        \n",
    "    def __call__(self, *args): # On wrapped function call\n",
    "        print('Inside call decorator instance')\n",
    "        n = self.func(*args)\n",
    "        print('in call', self.testbound) #this is a bound method obj since testbound is method of decorator instance\n",
    "        print('from org func {}'.format(n))\n",
    "        return n\n",
    "\n",
    "    def testbound(self):\n",
    "        pass\n",
    "\n",
    "@decorator #funct = decorator(funct)\n",
    "def funct(x, y): return x + y"
   ]
  },
  {
   "cell_type": "code",
   "execution_count": 6,
   "metadata": {},
   "outputs": [
    {
     "name": "stdout",
     "output_type": "stream",
     "text": [
      "Inside call decorator instance\n",
      "in call <bound method decorator.testbound of <__main__.decorator object at 0x0000000004E5C208>>\n",
      "from org func 5\n"
     ]
    },
    {
     "data": {
      "text/plain": [
       "5"
      ]
     },
     "execution_count": 6,
     "metadata": {},
     "output_type": "execute_result"
    }
   ],
   "source": [
    "funct(2,3)"
   ]
  },
  {
   "cell_type": "code",
   "execution_count": 50,
   "metadata": {},
   "outputs": [],
   "source": [
    "class C:\n",
    "    def __init__(self):\n",
    "        self.add = 5\n",
    "        \n",
    "    @decorator #multxy = decorator(multxy)\n",
    "    def multxy(self, x, y): \n",
    "        print(self)\n",
    "        return x * y + self.add"
   ]
  },
  {
   "cell_type": "code",
   "execution_count": 52,
   "metadata": {},
   "outputs": [
    {
     "name": "stdout",
     "output_type": "stream",
     "text": [
      "5\n",
      "<__main__.decorator object at 0x0000000004E45710> <__main__.decorator object at 0x0000000004E45710> <__main__.C object at 0x0000000004E45B00>\n",
      "Inside call decorator instance\n",
      "<__main__.C object at 0x0000000004E45B00>\n",
      "from org func 11\n",
      "Inside call decorator instance\n",
      "<__main__.C object at 0x0000000004E45B00>\n",
      "from org func 25\n"
     ]
    },
    {
     "data": {
      "text/plain": [
       "25"
      ]
     },
     "execution_count": 52,
     "metadata": {},
     "output_type": "execute_result"
    }
   ],
   "source": [
    "m = C()\n",
    "print(m.add)\n",
    "m_bd = m.multxy\n",
    "m_cl = C.multxy\n",
    "print(m_bd, m_cl, m)\n",
    "m_cl(m, 2, 3)\n",
    "m_bd(m, 4, 5)"
   ]
  },
  {
   "cell_type": "code",
   "execution_count": 17,
   "metadata": {},
   "outputs": [
    {
     "name": "stdout",
     "output_type": "stream",
     "text": [
      "<__main__.decorator object at 0x0000000004AABFD0> <__main__.decorator object at 0x0000000004E404A8>\n",
      "Inside call decorator instance\n",
      "from org func 9\n"
     ]
    },
    {
     "data": {
      "text/plain": [
       "9"
      ]
     },
     "execution_count": 17,
     "metadata": {},
     "output_type": "execute_result"
    }
   ],
   "source": [
    "a = func\n",
    "b = decorator(funct)\n",
    "print(a, b)\n",
    "a(3, 6)"
   ]
  },
  {
   "cell_type": "code",
   "execution_count": 7,
   "metadata": {},
   "outputs": [
    {
     "name": "stdout",
     "output_type": "stream",
     "text": [
      "inside decorator. call org function\n"
     ]
    }
   ],
   "source": [
    "def decorator(F): # F is func or method without instance\n",
    "    def wrapper(*args): # class instance in args[0] for method\n",
    "        print('inside decorator. call org function') # F(*args) runs func or method\n",
    "    return wrapper\n",
    "\n",
    "@decorator\n",
    "def func(x, y): # func = decorator(func)\n",
    "    pass\n",
    "\n",
    "func(6, 7) # Really calls wrapper(6, 7)\n",
    "\n",
    "class C:\n",
    "    @decorator\n",
    "    def method(self, x, y): # method = decorator(method)\n",
    "         print('this is org function')# Rebound to simple function"
   ]
  },
  {
   "cell_type": "code",
   "execution_count": 8,
   "metadata": {},
   "outputs": [
    {
     "data": {
      "text/plain": [
       "['__annotations__',\n",
       " '__call__',\n",
       " '__class__',\n",
       " '__closure__',\n",
       " '__code__',\n",
       " '__defaults__',\n",
       " '__delattr__',\n",
       " '__dict__',\n",
       " '__dir__',\n",
       " '__doc__',\n",
       " '__eq__',\n",
       " '__format__',\n",
       " '__ge__',\n",
       " '__get__',\n",
       " '__getattribute__',\n",
       " '__globals__',\n",
       " '__gt__',\n",
       " '__hash__',\n",
       " '__init__',\n",
       " '__kwdefaults__',\n",
       " '__le__',\n",
       " '__lt__',\n",
       " '__module__',\n",
       " '__name__',\n",
       " '__ne__',\n",
       " '__new__',\n",
       " '__qualname__',\n",
       " '__reduce__',\n",
       " '__reduce_ex__',\n",
       " '__repr__',\n",
       " '__setattr__',\n",
       " '__sizeof__',\n",
       " '__str__',\n",
       " '__subclasshook__']"
      ]
     },
     "execution_count": 8,
     "metadata": {},
     "output_type": "execute_result"
    }
   ],
   "source": [
    "dir(func)"
   ]
  },
  {
   "cell_type": "code",
   "execution_count": 56,
   "metadata": {},
   "outputs": [
    {
     "name": "stdout",
     "output_type": "stream",
     "text": [
      "<__main__.C object at 0x0000000004E45208> <function decorator.<locals>.wrapper at 0x0000000004E5D378> ['__call__', '__class__', '__delattr__', '__dir__', '__doc__', '__eq__', '__format__', '__func__', '__ge__', '__get__', '__getattribute__', '__gt__', '__hash__', '__init__', '__le__', '__lt__', '__ne__', '__new__', '__reduce__', '__reduce_ex__', '__repr__', '__self__', '__setattr__', '__sizeof__', '__str__', '__subclasshook__']\n"
     ]
    }
   ],
   "source": [
    "X = C()\n",
    "dec = X.method\n",
    "print(dec.__self__, dec.__func__, dir(dec))"
   ]
  },
  {
   "cell_type": "code",
   "execution_count": 39,
   "metadata": {},
   "outputs": [],
   "source": [
    "def increment_with_report(current, increments):\n",
    "    added_count = 10\n",
    "    \n",
    "    def missing():\n",
    "        nonlocal added_count # Stateful closure\n",
    "        added_count += 1\n",
    "        return 0\n",
    "    \n",
    "    print(hex(id(missing.__closure__)))\n",
    "    result = defaultdict(lambda: missing(), current)\n",
    "    print(missing.__closure__)\n",
    "    print(missing.__closure__[0].cell_contents)\n",
    "    for key, amount in increments:\n",
    "        result[key] += amount\n",
    "    return result, added_count"
   ]
  },
  {
   "cell_type": "code",
   "execution_count": 40,
   "metadata": {},
   "outputs": [
    {
     "name": "stdout",
     "output_type": "stream",
     "text": [
      "0x50e54a8\n",
      "(<cell at 0x00000000050D6468: int object at 0x0000000064B0C970>,)\n",
      "10\n",
      "None\n"
     ]
    }
   ],
   "source": [
    "from collections import defaultdict\n",
    "current = {'green': 12, 'blue': 3}\n",
    "increments = [\n",
    "            ('red', 5),\n",
    "            ('blue', 17),\n",
    "            ('orange', 9),\n",
    "            ]\n",
    "result, count = increment_with_report(current, increments)\n",
    "# assert count == 2\n",
    "print(increment_with_report.__closure__)"
   ]
  },
  {
   "cell_type": "code",
   "execution_count": null,
   "metadata": {},
   "outputs": [],
   "source": []
  }
 ],
 "metadata": {
  "kernelspec": {
   "display_name": "Python 3",
   "language": "python",
   "name": "python3"
  },
  "language_info": {
   "codemirror_mode": {
    "name": "ipython",
    "version": 3
   },
   "file_extension": ".py",
   "mimetype": "text/x-python",
   "name": "python",
   "nbconvert_exporter": "python",
   "pygments_lexer": "ipython3",
   "version": "3.4.4"
  }
 },
 "nbformat": 4,
 "nbformat_minor": 2
}
