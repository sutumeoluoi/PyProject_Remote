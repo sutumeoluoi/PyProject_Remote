{
 "cells": [
  {
   "cell_type": "code",
   "execution_count": 5,
   "metadata": {},
   "outputs": [
    {
     "name": "stdout",
     "output_type": "stream",
     "text": [
      "<function funct at 0x03515FA8>\n"
     ]
    }
   ],
   "source": [
    "class decorator:\n",
    "    def __init__(self, func): # On @ decoration\n",
    "        self.func = func #self.func is simple function passing by func function obj. self.func is just an attribute pointing to passing funct\n",
    "                         #It is NOT bound method obj because func is not method of decorator instance\n",
    "        print(self.func)\n",
    "        \n",
    "    def __call__(self, *args): # On wrapped function call\n",
    "        print('Inside call decorator instance')\n",
    "        n = self.func(*args)\n",
    "        print('in call', self.testbound) #this is a bound method obj since testbound is method of decorator instance\n",
    "        print('from org func {}'.format(n))\n",
    "        return n\n",
    "\n",
    "    def testbound(self):\n",
    "        pass\n",
    "\n",
    "@decorator #funct = decorator(funct)\n",
    "def funct(x, y): return x + y"
   ]
  },
  {
   "cell_type": "code",
   "execution_count": 6,
   "metadata": {},
   "outputs": [
    {
     "name": "stdout",
     "output_type": "stream",
     "text": [
      "Inside call decorator instance\n",
      "in call <bound method decorator.testbound of <__main__.decorator object at 0x0352DC10>>\n",
      "from org func 5\n"
     ]
    },
    {
     "data": {
      "text/plain": [
       "5"
      ]
     },
     "execution_count": 6,
     "metadata": {},
     "output_type": "execute_result"
    }
   ],
   "source": [
    "funct(2,3)"
   ]
  },
  {
   "cell_type": "code",
   "execution_count": 7,
   "metadata": {},
   "outputs": [
    {
     "name": "stdout",
     "output_type": "stream",
     "text": [
      "<function C.multxy at 0x03515E40>\n"
     ]
    }
   ],
   "source": [
    "class C:\n",
    "    def __init__(self):\n",
    "        self.add = 5\n",
    "        \n",
    "    @decorator #multxy = decorator(multxy). Instance of decorator class has been created here\n",
    "    def multxy(self, x, y): \n",
    "        print(self)\n",
    "        return x * y + self.add"
   ]
  },
  {
   "cell_type": "code",
   "execution_count": 28,
   "metadata": {},
   "outputs": [
    {
     "name": "stdout",
     "output_type": "stream",
     "text": [
      "5\n",
      "<__main__.decorator object at 0x0352D3F0> <__main__.decorator object at 0x0352D3F0> <__main__.C object at 0x0354B450> \n",
      " <bound method decorator.__call__ of <__main__.decorator object at 0x0352D3F0>> \n",
      " <bound method decorator.__call__ of <__main__.decorator object at 0x0352D3F0>>\n",
      "*********************************************\n",
      "Inside call decorator instance\n",
      "<__main__.C object at 0x0354B450>\n",
      "in call <bound method decorator.testbound of <__main__.decorator object at 0x0352D3F0>>\n",
      "from org func 11\n",
      "**********************\n",
      "Inside call decorator instance\n",
      "<__main__.C object at 0x0354B450>\n",
      "in call <bound method decorator.testbound of <__main__.decorator object at 0x0352D3F0>>\n",
      "from org func 25\n",
      "**********************\n",
      "**********************\n",
      "Inside call decorator instance\n"
     ]
    },
    {
     "ename": "TypeError",
     "evalue": "multxy() missing 1 required positional argument: 'y'",
     "output_type": "error",
     "traceback": [
      "\u001b[1;31m---------------------------------------------------------------------------\u001b[0m",
      "\u001b[1;31mTypeError\u001b[0m                                 Traceback (most recent call last)",
      "\u001b[1;32m<ipython-input-28-ac83bbcefc8c>\u001b[0m in \u001b[0;36m<module>\u001b[1;34m()\u001b[0m\n\u001b[0;32m     14\u001b[0m               \u001b[1;31m#object multxy(self, x, y) of C. 1 pass to self, so AttributeError: 'int' object has no attribute 'add'\u001b[0m\u001b[1;33m\u001b[0m\u001b[1;33m\u001b[0m\u001b[0m\n\u001b[0;32m     15\u001b[0m \u001b[0mprint\u001b[0m\u001b[1;33m(\u001b[0m\u001b[1;34m'**********************'\u001b[0m\u001b[1;33m)\u001b[0m\u001b[1;33m\u001b[0m\u001b[0m\n\u001b[1;32m---> 16\u001b[1;33m \u001b[0mm_bd\u001b[0m\u001b[1;33m(\u001b[0m\u001b[1;36m4\u001b[0m\u001b[1;33m,\u001b[0m \u001b[1;36m5\u001b[0m\u001b[1;33m)\u001b[0m \u001b[1;31m#m_bd same as m_cl point to the instance of decorator class. It calls __call__(self, 1, 2, 3).\u001b[0m\u001b[1;33m\u001b[0m\u001b[0m\n\u001b[0m\u001b[0;32m     17\u001b[0m              \u001b[1;31m#self(of decorator instance) implicitly bound to __call__ creating bound method and *arg gets (4, 5)\u001b[0m\u001b[1;33m\u001b[0m\u001b[1;33m\u001b[0m\u001b[0m\n\u001b[0;32m     18\u001b[0m              \u001b[1;31m#Then, pass to self.func(4, 5). This refers back to original(undecorated) method object multxy(self, x, y) of C\u001b[0m\u001b[1;33m\u001b[0m\u001b[1;33m\u001b[0m\u001b[0m\n",
      "\u001b[1;32m<ipython-input-5-14ecc55a3865>\u001b[0m in \u001b[0;36m__call__\u001b[1;34m(self, *args)\u001b[0m\n\u001b[0;32m      7\u001b[0m     \u001b[1;32mdef\u001b[0m \u001b[0m__call__\u001b[0m\u001b[1;33m(\u001b[0m\u001b[0mself\u001b[0m\u001b[1;33m,\u001b[0m \u001b[1;33m*\u001b[0m\u001b[0margs\u001b[0m\u001b[1;33m)\u001b[0m\u001b[1;33m:\u001b[0m \u001b[1;31m# On wrapped function call\u001b[0m\u001b[1;33m\u001b[0m\u001b[0m\n\u001b[0;32m      8\u001b[0m         \u001b[0mprint\u001b[0m\u001b[1;33m(\u001b[0m\u001b[1;34m'Inside call decorator instance'\u001b[0m\u001b[1;33m)\u001b[0m\u001b[1;33m\u001b[0m\u001b[0m\n\u001b[1;32m----> 9\u001b[1;33m         \u001b[0mn\u001b[0m \u001b[1;33m=\u001b[0m \u001b[0mself\u001b[0m\u001b[1;33m.\u001b[0m\u001b[0mfunc\u001b[0m\u001b[1;33m(\u001b[0m\u001b[1;33m*\u001b[0m\u001b[0margs\u001b[0m\u001b[1;33m)\u001b[0m\u001b[1;33m\u001b[0m\u001b[0m\n\u001b[0m\u001b[0;32m     10\u001b[0m         \u001b[0mprint\u001b[0m\u001b[1;33m(\u001b[0m\u001b[1;34m'in call'\u001b[0m\u001b[1;33m,\u001b[0m \u001b[0mself\u001b[0m\u001b[1;33m.\u001b[0m\u001b[0mtestbound\u001b[0m\u001b[1;33m)\u001b[0m \u001b[1;31m#this is a bound method obj since testbound is method of decorator instance\u001b[0m\u001b[1;33m\u001b[0m\u001b[0m\n\u001b[0;32m     11\u001b[0m         \u001b[0mprint\u001b[0m\u001b[1;33m(\u001b[0m\u001b[1;34m'from org func {}'\u001b[0m\u001b[1;33m.\u001b[0m\u001b[0mformat\u001b[0m\u001b[1;33m(\u001b[0m\u001b[0mn\u001b[0m\u001b[1;33m)\u001b[0m\u001b[1;33m)\u001b[0m\u001b[1;33m\u001b[0m\u001b[0m\n",
      "\u001b[1;31mTypeError\u001b[0m: multxy() missing 1 required positional argument: 'y'"
     ]
    }
   ],
   "source": [
    "m = C()\n",
    "print(m.add)\n",
    "m_bd = m.multxy\n",
    "m_cl = C.multxy\n",
    "print(m_bd, m_cl, m,'\\n', m_bd.__call__,'\\n', m_cl.__call__)\n",
    "print('*********************************************')\n",
    "m_cl(m, 2, 3) #ok\n",
    "print('**********************')\n",
    "m_bd(m, 4, 5) #ok\n",
    "print('**********************')\n",
    "# m_cl(1, 2, 3) #m_cl points to the instance of decorator class. It calls __call__(self, 1, 2, 3). \n",
    "              #self(of decorator instance) implicitly bound to __call__ creating bound method and *arg gets (1, 2, 3) \n",
    "              #Then, pass to self.func(1, 2, 3) of __call__. This refers back to original(undecorated) method \n",
    "              #object multxy(self, x, y) of C. 1 pass to self, so AttributeError: 'int' object has no attribute 'add'\n",
    "print('**********************')\n",
    "m_bd(4, 5) #m_bd same as m_cl point to the same instance of decorator class. It calls __call__(self, 1, 2, 3).\n",
    "             #self(of decorator instance) implicitly bound to __call__ creating bound method and *arg gets (4, 5) \n",
    "             #Then, pass to self.func(4, 5). This refers back to original(undecorated) method object multxy(self, x, y) of C\n",
    "             #4 assign to self, 5 to x, nothing for y, so TypeError: multxy() missing 1 required positional argument: 'y'"
   ]
  },
  {
   "cell_type": "code",
   "execution_count": 17,
   "metadata": {},
   "outputs": [
    {
     "name": "stdout",
     "output_type": "stream",
     "text": [
      "<__main__.decorator object at 0x0000000004AABFD0> <__main__.decorator object at 0x0000000004E404A8>\n",
      "Inside call decorator instance\n",
      "from org func 9\n"
     ]
    },
    {
     "data": {
      "text/plain": [
       "9"
      ]
     },
     "execution_count": 17,
     "metadata": {},
     "output_type": "execute_result"
    }
   ],
   "source": [
    "a = func\n",
    "b = decorator(funct)\n",
    "print(a, b)\n",
    "a(3, 6)"
   ]
  },
  {
   "cell_type": "code",
   "execution_count": 45,
   "metadata": {},
   "outputs": [
    {
     "name": "stdout",
     "output_type": "stream",
     "text": [
      "inside decorator. call org function\n"
     ]
    }
   ],
   "source": [
    "def decorator(F): # F is func or method without instance\n",
    "    def wrapper(*args): # class instance in args[0] for method\n",
    "        print('inside decorator. call org function') # F(*args) runs func or method\n",
    "        F(*args)\n",
    "    return wrapper\n",
    "\n",
    "@decorator\n",
    "def func(x, y): # func = decorator(func)\n",
    "    pass\n",
    "\n",
    "func(6, 7) # Really calls wrapper(6, 7)\n",
    "\n",
    "class C:\n",
    "    @decorator\n",
    "    def method(self, x, y): #method = decorator(method). Rebound to function wrapper(). Then, work as usual class method\n",
    "                            #When calling through instance, it creates bound method object as usual.\n",
    "         print('this is org method. parm: (self, x, y):', (x, y))"
   ]
  },
  {
   "cell_type": "code",
   "execution_count": 50,
   "metadata": {},
   "outputs": [
    {
     "name": "stdout",
     "output_type": "stream",
     "text": [
      "inside decorator. call org function\n",
      "this is org method. parm: (self, x, y): (4, 5)\n",
      "**********************\n",
      "<bound method C.wrapper of <__main__.C object at 0x0354BD90>> \n",
      " <__main__.C object at 0x0354BD90> <function decorator.<locals>.wrapper at 0x03515A98>\n"
     ]
    },
    {
     "data": {
      "text/plain": [
       "['__call__',\n",
       " '__class__',\n",
       " '__delattr__',\n",
       " '__dir__',\n",
       " '__doc__',\n",
       " '__eq__',\n",
       " '__format__',\n",
       " '__func__',\n",
       " '__ge__',\n",
       " '__get__',\n",
       " '__getattribute__',\n",
       " '__gt__',\n",
       " '__hash__',\n",
       " '__init__',\n",
       " '__le__',\n",
       " '__lt__',\n",
       " '__ne__',\n",
       " '__new__',\n",
       " '__reduce__',\n",
       " '__reduce_ex__',\n",
       " '__repr__',\n",
       " '__self__',\n",
       " '__setattr__',\n",
       " '__sizeof__',\n",
       " '__str__',\n",
       " '__subclasshook__']"
      ]
     },
     "execution_count": 50,
     "metadata": {},
     "output_type": "execute_result"
    }
   ],
   "source": [
    "X = C()\n",
    "dec = X.method\n",
    "dec(4, 5)\n",
    "print('**********************')\n",
    "print(dec,'\\n',dec.__self__, dec.__func__)\n",
    "dir(dec)"
   ]
  },
  {
   "cell_type": "code",
   "execution_count": 8,
   "metadata": {},
   "outputs": [
    {
     "data": {
      "text/plain": [
       "['__annotations__',\n",
       " '__call__',\n",
       " '__class__',\n",
       " '__closure__',\n",
       " '__code__',\n",
       " '__defaults__',\n",
       " '__delattr__',\n",
       " '__dict__',\n",
       " '__dir__',\n",
       " '__doc__',\n",
       " '__eq__',\n",
       " '__format__',\n",
       " '__ge__',\n",
       " '__get__',\n",
       " '__getattribute__',\n",
       " '__globals__',\n",
       " '__gt__',\n",
       " '__hash__',\n",
       " '__init__',\n",
       " '__kwdefaults__',\n",
       " '__le__',\n",
       " '__lt__',\n",
       " '__module__',\n",
       " '__name__',\n",
       " '__ne__',\n",
       " '__new__',\n",
       " '__qualname__',\n",
       " '__reduce__',\n",
       " '__reduce_ex__',\n",
       " '__repr__',\n",
       " '__setattr__',\n",
       " '__sizeof__',\n",
       " '__str__',\n",
       " '__subclasshook__']"
      ]
     },
     "execution_count": 8,
     "metadata": {},
     "output_type": "execute_result"
    }
   ],
   "source": [
    "dir(func)"
   ]
  },
  {
   "cell_type": "code",
   "execution_count": 39,
   "metadata": {},
   "outputs": [],
   "source": [
    "def increment_with_report(current, increments):\n",
    "    added_count = 10\n",
    "    \n",
    "    def missing():\n",
    "        nonlocal added_count # Stateful closure\n",
    "        added_count += 1\n",
    "        return 0\n",
    "    \n",
    "    print(hex(id(missing.__closure__)))\n",
    "    result = defaultdict(lambda: missing(), current)\n",
    "    print(missing.__closure__)\n",
    "    print(missing.__closure__[0].cell_contents)\n",
    "    for key, amount in increments:\n",
    "        result[key] += amount\n",
    "    return result, added_count"
   ]
  },
  {
   "cell_type": "code",
   "execution_count": 40,
   "metadata": {},
   "outputs": [
    {
     "name": "stdout",
     "output_type": "stream",
     "text": [
      "0x50e54a8\n",
      "(<cell at 0x00000000050D6468: int object at 0x0000000064B0C970>,)\n",
      "10\n",
      "None\n"
     ]
    }
   ],
   "source": [
    "from collections import defaultdict\n",
    "current = {'green': 12, 'blue': 3}\n",
    "increments = [\n",
    "            ('red', 5),\n",
    "            ('blue', 17),\n",
    "            ('orange', 9),\n",
    "            ]\n",
    "result, count = increment_with_report(current, increments)\n",
    "# assert count == 2\n",
    "print(increment_with_report.__closure__)"
   ]
  },
  {
   "cell_type": "code",
   "execution_count": null,
   "metadata": {},
   "outputs": [],
   "source": []
  }
 ],
 "metadata": {
  "kernelspec": {
   "display_name": "Python 3",
   "language": "python",
   "name": "python3"
  },
  "language_info": {
   "codemirror_mode": {
    "name": "ipython",
    "version": 3
   },
   "file_extension": ".py",
   "mimetype": "text/x-python",
   "name": "python",
   "nbconvert_exporter": "python",
   "pygments_lexer": "ipython3",
   "version": "3.4.4"
  }
 },
 "nbformat": 4,
 "nbformat_minor": 2
}
