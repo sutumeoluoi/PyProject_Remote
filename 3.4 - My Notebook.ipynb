{
 "cells": [
  {
   "cell_type": "code",
   "execution_count": 4,
   "metadata": {},
   "outputs": [
    {
     "data": {
      "text/plain": [
       "-2"
      ]
     },
     "execution_count": 4,
     "metadata": {},
     "output_type": "execute_result"
    }
   ],
   "source": [
    "-2 % -5"
   ]
  },
  {
   "cell_type": "code",
   "execution_count": 4,
   "metadata": {},
   "outputs": [
    {
     "name": "stdout",
     "output_type": "stream",
     "text": [
      "35,555.444\n"
     ]
    }
   ],
   "source": [
    "s = '35.555,444'\n",
    "trans = str.maketrans('.,', ',.')\n",
    "print(s.translate(trans))"
   ]
  },
  {
   "cell_type": "code",
   "execution_count": 4,
   "metadata": {},
   "outputs": [],
   "source": [
    "from PyApps.example import Methods\n",
    "# from importlib import reload\n",
    "# reload(PyApps.example)\n",
    "# from PyApps.example import Methods"
   ]
  },
  {
   "cell_type": "code",
   "execution_count": 5,
   "metadata": {},
   "outputs": [],
   "source": [
    "a = Methods()\n",
    "b = Methods()\n",
    "c = Methods()"
   ]
  },
  {
   "cell_type": "code",
   "execution_count": 7,
   "metadata": {},
   "outputs": [],
   "source": [
    "a_bd = a.cmeth"
   ]
  },
  {
   "cell_type": "code",
   "execution_count": 8,
   "metadata": {},
   "outputs": [
    {
     "data": {
      "text/plain": [
       "(True, False)"
      ]
     },
     "execution_count": 8,
     "metadata": {},
     "output_type": "execute_result"
    }
   ],
   "source": [
    "a_bd.__self__ is a, a_bd.__self__ is Methods\n",
    "# c.imeth.__self__ is c"
   ]
  },
  {
   "cell_type": "code",
   "execution_count": 82,
   "metadata": {},
   "outputs": [
    {
     "data": {
      "text/plain": [
       "False"
      ]
     },
     "execution_count": 82,
     "metadata": {},
     "output_type": "execute_result"
    }
   ],
   "source": [
    "isinstance(a_bd.__self__, PyApps.example.Methods)\n",
    "# a_bd.__self__.__class__"
   ]
  },
  {
   "cell_type": "code",
   "execution_count": 71,
   "metadata": {},
   "outputs": [
    {
     "data": {
      "text/plain": [
       "['__class__',\n",
       " '__delattr__',\n",
       " '__dict__',\n",
       " '__dir__',\n",
       " '__doc__',\n",
       " '__eq__',\n",
       " '__format__',\n",
       " '__ge__',\n",
       " '__getattribute__',\n",
       " '__gt__',\n",
       " '__hash__',\n",
       " '__init__',\n",
       " '__le__',\n",
       " '__lt__',\n",
       " '__module__',\n",
       " '__ne__',\n",
       " '__new__',\n",
       " '__reduce__',\n",
       " '__reduce_ex__',\n",
       " '__repr__',\n",
       " '__setattr__',\n",
       " '__sizeof__',\n",
       " '__str__',\n",
       " '__subclasshook__',\n",
       " '__weakref__',\n",
       " 'cmeth',\n",
       " 'imeth',\n",
       " 'smeth']"
      ]
     },
     "execution_count": 71,
     "metadata": {},
     "output_type": "execute_result"
    }
   ],
   "source": [
    "dir(a_bd.__self__)"
   ]
  },
  {
   "cell_type": "code",
   "execution_count": 40,
   "metadata": {},
   "outputs": [
    {
     "data": {
      "text/plain": [
       "([<bound method Methods.cmeth of <PyApps.example.Methods object at 0x03584790>>,\n",
       "  <function PyApps.example.Methods.cmeth(cls, x)>],\n",
       " [('__call__', '__annotations__'),\n",
       "  ('__class__', '__call__'),\n",
       "  ('__delattr__', '__class__'),\n",
       "  ('__dir__', '__closure__'),\n",
       "  ('__doc__', '__code__'),\n",
       "  ('__eq__', '__defaults__'),\n",
       "  ('__format__', '__delattr__'),\n",
       "  ('__func__', '__dict__'),\n",
       "  ('__ge__', '__dir__'),\n",
       "  ('__get__', '__doc__'),\n",
       "  ('__getattribute__', '__eq__'),\n",
       "  ('__gt__', '__format__'),\n",
       "  ('__hash__', '__ge__'),\n",
       "  ('__init__', '__get__'),\n",
       "  ('__le__', '__getattribute__'),\n",
       "  ('__lt__', '__globals__'),\n",
       "  ('__ne__', '__gt__'),\n",
       "  ('__new__', '__hash__'),\n",
       "  ('__reduce__', '__init__'),\n",
       "  ('__reduce_ex__', '__kwdefaults__'),\n",
       "  ('__repr__', '__le__'),\n",
       "  ('__self__', '__lt__'),\n",
       "  ('__setattr__', '__module__'),\n",
       "  ('__sizeof__', '__name__'),\n",
       "  ('__str__', '__ne__'),\n",
       "  ('__subclasshook__', '__new__')])"
      ]
     },
     "execution_count": 40,
     "metadata": {},
     "output_type": "execute_result"
    }
   ],
   "source": [
    "[a_bd, a_bd.__func__], list(zip(dir(a_bd), dir(a_bd.__func__)))"
   ]
  },
  {
   "cell_type": "code",
   "execution_count": 55,
   "metadata": {},
   "outputs": [
    {
     "data": {
      "text/plain": [
       "([<PyApps.example.Methods at 0x35964d0>,\n",
       "  <PyApps.example.Methods at 0x3584790>,\n",
       "  PyApps.example.Methods],\n",
       " [('__class__', '__class__', '__class__'),\n",
       "  ('__delattr__', '__delattr__', '__delattr__'),\n",
       "  ('__dict__', '__dict__', '__dict__'),\n",
       "  ('__dir__', '__dir__', '__dir__'),\n",
       "  ('__doc__', '__doc__', '__doc__'),\n",
       "  ('__eq__', '__eq__', '__eq__'),\n",
       "  ('__format__', '__format__', '__format__'),\n",
       "  ('__ge__', '__ge__', '__ge__'),\n",
       "  ('__getattribute__', '__getattribute__', '__getattribute__'),\n",
       "  ('__gt__', '__gt__', '__gt__'),\n",
       "  ('__hash__', '__hash__', '__hash__'),\n",
       "  ('__init__', '__init__', '__init__'),\n",
       "  ('__le__', '__le__', '__le__'),\n",
       "  ('__lt__', '__lt__', '__lt__'),\n",
       "  ('__module__', '__module__', '__module__'),\n",
       "  ('__ne__', '__ne__', '__ne__'),\n",
       "  ('__new__', '__new__', '__new__'),\n",
       "  ('__reduce__', '__reduce__', '__reduce__'),\n",
       "  ('__reduce_ex__', '__reduce_ex__', '__reduce_ex__'),\n",
       "  ('__repr__', '__repr__', '__repr__'),\n",
       "  ('__setattr__', '__setattr__', '__setattr__'),\n",
       "  ('__sizeof__', '__sizeof__', '__sizeof__'),\n",
       "  ('__str__', '__str__', '__str__'),\n",
       "  ('__subclasshook__', '__subclasshook__', '__subclasshook__'),\n",
       "  ('__weakref__', '__weakref__', '__weakref__'),\n",
       "  ('cmeth', 'cmeth', 'cmeth'),\n",
       "  ('imeth', 'imeth', 'imeth'),\n",
       "  ('name', 'smeth', 'smeth')])"
      ]
     },
     "execution_count": 55,
     "metadata": {},
     "output_type": "execute_result"
    }
   ],
   "source": [
    "[a, a_bd.__self__, Methods], list(zip(dir(a), dir(a_bd.__self__), dir(Methods)))"
   ]
  },
  {
   "cell_type": "code",
   "execution_count": 28,
   "metadata": {},
   "outputs": [
    {
     "data": {
      "text/plain": [
       "(PyApps.example.Methods,\n",
       " ['__class__',\n",
       "  '__delattr__',\n",
       "  '__dict__',\n",
       "  '__dir__',\n",
       "  '__doc__',\n",
       "  '__eq__',\n",
       "  '__format__',\n",
       "  '__ge__',\n",
       "  '__getattribute__',\n",
       "  '__gt__',\n",
       "  '__hash__',\n",
       "  '__init__',\n",
       "  '__le__',\n",
       "  '__lt__',\n",
       "  '__module__',\n",
       "  '__ne__',\n",
       "  '__new__',\n",
       "  '__reduce__',\n",
       "  '__reduce_ex__',\n",
       "  '__repr__',\n",
       "  '__setattr__',\n",
       "  '__sizeof__',\n",
       "  '__str__',\n",
       "  '__subclasshook__',\n",
       "  '__weakref__',\n",
       "  'cmeth',\n",
       "  'imeth',\n",
       "  'smeth'])"
      ]
     },
     "execution_count": 28,
     "metadata": {},
     "output_type": "execute_result"
    }
   ],
   "source": [
    "Methods, dir(Methods)"
   ]
  },
  {
   "cell_type": "code",
   "execution_count": 26,
   "metadata": {},
   "outputs": [
    {
     "data": {
      "text/plain": [
       "(<function PyApps.example.Methods.cmeth(cls, x)>,\n",
       " ['__annotations__',\n",
       "  '__call__',\n",
       "  '__class__',\n",
       "  '__closure__',\n",
       "  '__code__',\n",
       "  '__defaults__',\n",
       "  '__delattr__',\n",
       "  '__dict__',\n",
       "  '__dir__',\n",
       "  '__doc__',\n",
       "  '__eq__',\n",
       "  '__format__',\n",
       "  '__ge__',\n",
       "  '__get__',\n",
       "  '__getattribute__',\n",
       "  '__globals__',\n",
       "  '__gt__',\n",
       "  '__hash__',\n",
       "  '__init__',\n",
       "  '__kwdefaults__',\n",
       "  '__le__',\n",
       "  '__lt__',\n",
       "  '__module__',\n",
       "  '__name__',\n",
       "  '__ne__',\n",
       "  '__new__',\n",
       "  '__qualname__',\n",
       "  '__reduce__',\n",
       "  '__reduce_ex__',\n",
       "  '__repr__',\n",
       "  '__setattr__',\n",
       "  '__sizeof__',\n",
       "  '__str__',\n",
       "  '__subclasshook__'])"
      ]
     },
     "execution_count": 26,
     "metadata": {},
     "output_type": "execute_result"
    }
   ],
   "source": [
    "a_bd.__func__, dir(a_bd.__func__)"
   ]
  },
  {
   "cell_type": "code",
   "execution_count": 30,
   "metadata": {},
   "outputs": [
    {
     "data": {
      "text/plain": [
       "(<bound method Methods.imeth of <PyApps.example.Methods object at 0x035847F0>>,\n",
       " ['__call__',\n",
       "  '__class__',\n",
       "  '__delattr__',\n",
       "  '__dir__',\n",
       "  '__doc__',\n",
       "  '__eq__',\n",
       "  '__format__',\n",
       "  '__func__',\n",
       "  '__ge__',\n",
       "  '__get__',\n",
       "  '__getattribute__',\n",
       "  '__gt__',\n",
       "  '__hash__',\n",
       "  '__init__',\n",
       "  '__le__',\n",
       "  '__lt__',\n",
       "  '__ne__',\n",
       "  '__new__',\n",
       "  '__reduce__',\n",
       "  '__reduce_ex__',\n",
       "  '__repr__',\n",
       "  '__self__',\n",
       "  '__setattr__',\n",
       "  '__sizeof__',\n",
       "  '__str__',\n",
       "  '__subclasshook__'])"
      ]
     },
     "execution_count": 30,
     "metadata": {},
     "output_type": "execute_result"
    }
   ],
   "source": [
    "b_bd = b.imeth\n",
    "b_bd, dir(b_bd)"
   ]
  },
  {
   "cell_type": "code",
   "execution_count": 41,
   "metadata": {},
   "outputs": [
    {
     "data": {
      "text/plain": [
       "([<bound method Methods.cmeth of <PyApps.example.Methods object at 0x03584790>>,\n",
       "  <bound method Methods.imeth of <PyApps.example.Methods object at 0x035847F0>>],\n",
       " [('__class__', '__call__', '__call__'),\n",
       "  ('__delattr__', '__class__', '__class__'),\n",
       "  ('__dict__', '__delattr__', '__delattr__'),\n",
       "  ('__dir__', '__dir__', '__dir__'),\n",
       "  ('__doc__', '__doc__', '__doc__'),\n",
       "  ('__eq__', '__eq__', '__eq__'),\n",
       "  ('__format__', '__format__', '__format__'),\n",
       "  ('__ge__', '__func__', '__func__'),\n",
       "  ('__getattribute__', '__ge__', '__ge__'),\n",
       "  ('__gt__', '__get__', '__get__'),\n",
       "  ('__hash__', '__getattribute__', '__getattribute__'),\n",
       "  ('__init__', '__gt__', '__gt__'),\n",
       "  ('__le__', '__hash__', '__hash__'),\n",
       "  ('__lt__', '__init__', '__init__'),\n",
       "  ('__module__', '__le__', '__le__'),\n",
       "  ('__ne__', '__lt__', '__lt__'),\n",
       "  ('__new__', '__ne__', '__ne__'),\n",
       "  ('__reduce__', '__new__', '__new__'),\n",
       "  ('__reduce_ex__', '__reduce__', '__reduce__'),\n",
       "  ('__repr__', '__reduce_ex__', '__reduce_ex__'),\n",
       "  ('__setattr__', '__repr__', '__repr__'),\n",
       "  ('__sizeof__', '__self__', '__self__'),\n",
       "  ('__str__', '__setattr__', '__setattr__'),\n",
       "  ('__subclasshook__', '__sizeof__', '__sizeof__'),\n",
       "  ('__weakref__', '__str__', '__str__'),\n",
       "  ('cmeth', '__subclasshook__', '__subclasshook__')])"
      ]
     },
     "execution_count": 41,
     "metadata": {},
     "output_type": "execute_result"
    }
   ],
   "source": [
    "[a_bd, b_bd], list(zip(dir(a), dir(a_bd), dir(b_bd)))"
   ]
  },
  {
   "cell_type": "code",
   "execution_count": 62,
   "metadata": {},
   "outputs": [
    {
     "data": {
      "text/plain": [
       "(['__class__',\n",
       "  '__delattr__',\n",
       "  '__dict__',\n",
       "  '__dir__',\n",
       "  '__doc__',\n",
       "  '__eq__',\n",
       "  '__format__',\n",
       "  '__ge__',\n",
       "  '__getattribute__',\n",
       "  '__gt__',\n",
       "  '__hash__',\n",
       "  '__init__',\n",
       "  '__le__',\n",
       "  '__lt__',\n",
       "  '__module__',\n",
       "  '__ne__',\n",
       "  '__new__',\n",
       "  '__reduce__',\n",
       "  '__reduce_ex__',\n",
       "  '__repr__',\n",
       "  '__setattr__',\n",
       "  '__sizeof__',\n",
       "  '__str__',\n",
       "  '__subclasshook__',\n",
       "  '__weakref__',\n",
       "  'cmeth',\n",
       "  'imeth',\n",
       "  'smeth'],\n",
       " PyApps.example.Methods,\n",
       " PyApps.example.Methods,\n",
       " PyApps.example.Methods)"
      ]
     },
     "execution_count": 62,
     "metadata": {},
     "output_type": "execute_result"
    }
   ],
   "source": [
    "dir(b_bd.__self__), b.__class__, b_bd.__self__.__class__, Methods"
   ]
  },
  {
   "cell_type": "code",
   "execution_count": 84,
   "metadata": {},
   "outputs": [
    {
     "name": "stdout",
     "output_type": "stream",
     "text": [
      "[<PyApps.example.Methods object at 0x03584790>, 12]\n"
     ]
    }
   ],
   "source": [
    "a_bd(12)"
   ]
  },
  {
   "cell_type": "code",
   "execution_count": 85,
   "metadata": {},
   "outputs": [
    {
     "name": "stdout",
     "output_type": "stream",
     "text": [
      "[<PyApps.example.Methods object at 0x035847F0>, 12]\n"
     ]
    }
   ],
   "source": [
    "b_bd(12)"
   ]
  },
  {
   "cell_type": "code",
   "execution_count": 86,
   "metadata": {},
   "outputs": [
    {
     "ename": "TypeError",
     "evalue": "cmeth() takes 2 positional arguments but 3 were given",
     "output_type": "error",
     "traceback": [
      "\u001b[1;31m---------------------------------------------------------------------------\u001b[0m",
      "\u001b[1;31mTypeError\u001b[0m                                 Traceback (most recent call last)",
      "\u001b[1;32m<ipython-input-86-e4c0e70f477a>\u001b[0m in \u001b[0;36m<module>\u001b[1;34m()\u001b[0m\n\u001b[1;32m----> 1\u001b[1;33m \u001b[0ma_bd\u001b[0m\u001b[1;33m(\u001b[0m\u001b[0mMethods\u001b[0m\u001b[1;33m,\u001b[0m \u001b[1;36m12\u001b[0m\u001b[1;33m)\u001b[0m\u001b[1;33m\u001b[0m\u001b[0m\n\u001b[0m",
      "\u001b[1;31mTypeError\u001b[0m: cmeth() takes 2 positional arguments but 3 were given"
     ]
    }
   ],
   "source": [
    "a_bd(Methods, 12)"
   ]
  },
  {
   "cell_type": "code",
   "execution_count": 15,
   "metadata": {},
   "outputs": [
    {
     "name": "stdout",
     "output_type": "stream",
     "text": [
      "{'x': [1, 2, 3, 63], 'z': [2], 'y': [1, 2, 3]} {None: 0}\n"
     ]
    }
   ],
   "source": [
    "l = [ (\"x\", 1), (\"x\", 2), (\"x\", 3), (\"z\", 2), (\"y\", 1), (\"y\", 2), (\"y\", 3), (\"x\", 63) ]\n",
    "d ={}\n",
    "# for k, v in l:\n",
    "#     d.setdefault(k, []).append(v)\n",
    "\n",
    "c = {d.setdefault(k, []).append(v): 0 for k, v in l}\n",
    "    \n",
    "print(d, c)"
   ]
  }
 ],
 "metadata": {
  "kernelspec": {
   "display_name": "Python 3",
   "language": "python",
   "name": "python3"
  },
  "language_info": {
   "codemirror_mode": {
    "name": "ipython",
    "version": 3
   },
   "file_extension": ".py",
   "mimetype": "text/x-python",
   "name": "python",
   "nbconvert_exporter": "python",
   "pygments_lexer": "ipython3",
   "version": "3.4.4"
  }
 },
 "nbformat": 4,
 "nbformat_minor": 2
}
